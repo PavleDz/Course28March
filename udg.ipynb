{
 "cells": [
  {
   "cell_type": "code",
   "execution_count": 1,
   "metadata": {},
   "outputs": [
    {
     "name": "stdout",
     "output_type": "stream",
     "text": [
      "Fečovanje stranice 281...\n",
      "Skrepovana 281\n",
      "Gotovo\n"
     ]
    }
   ],
   "source": [
    "from selenium import webdriver\n",
    "import time\n",
    "\n",
    "driver = webdriver.Firefox()\n",
    "\n",
    "driver.get(\"https://www.udg.edu.me/fakulteti/\")\n",
    "time.sleep(5)\n",
    "\n",
    "page = 281\n",
    "\n",
    "print(f\"Fečovanje stranice {page}...\")\n",
    "\n",
    "url = f\"https://www.udg.edu.me/fakulteti/\"\n",
    "\n",
    "js_fetch = f\"\"\"\n",
    "return fetch(\"{url}\", {{\n",
    "    method: \"GET\",\n",
    "    headers: {{\n",
    "        \"Accept\": \"text/html\"\n",
    "    }}\n",
    "}}).then(resp => resp.text()).then(data => data).catch(err => \"ERR: \" + err);\n",
    "\"\"\"\n",
    "\n",
    "html = driver.execute_script(js_fetch)\n",
    "\n",
    "\n",
    "with open(f\"fakulteti.txt\", \"a\", encoding=\"utf-8\") as f:\n",
    "    f.write(html)\n",
    "\n",
    "print(f\"Skrepovana {page}\")\n",
    "\n",
    "driver.quit()\n",
    "print(\"Gotovo\")\n",
    "\n"
   ]
  },
  {
   "cell_type": "code",
   "execution_count": 2,
   "metadata": {},
   "outputs": [
    {
     "name": "stdout",
     "output_type": "stream",
     "text": [
      "Ekstrahovano 13 listinga\n"
     ]
    }
   ],
   "source": [
    "# https://fmefb.udg.edu.me/\n",
    "\n",
    "import re\n",
    "\n",
    "with open(\"fakulteti.txt\", \"r\", encoding=\"utf-8\") as f:\n",
    "    html = f.read()\n",
    "\n",
    "links = re.findall(r'https:\\/\\/([a-zA-Z0-9\\-]+)\\.udg\\.edu\\.me\\/', html)\n",
    "\n",
    "unique_links = sorted(set(links))\n",
    "\n",
    "with open(\"fakulteti_links.txt\", \"w\", encoding=\"utf-8\") as f:\n",
    "    for link in unique_links:\n",
    "        f.write(link + \"\\n\")\n",
    "\n",
    "print(f\"Ekstrahovano {len(unique_links)} listinga\")\n"
   ]
  },
  {
   "cell_type": "code",
   "execution_count": 13,
   "metadata": {},
   "outputs": [
    {
     "name": "stdout",
     "output_type": "stream",
     "text": [
      "Gotov fdm.html\n",
      "Gotov fist.html\n",
      "Gotov fkt.html\n",
      "Gotov fmefb.html\n",
      "Gotov fpn.html\n",
      "Gotov fprn.html\n",
      "Gotov fptbhe.html\n",
      "Gotov fsm.html\n",
      "Gotov hs.html\n",
      "Gotov politehnika.html\n"
     ]
    }
   ],
   "source": [
    "import requests\n",
    "\n",
    "\n",
    "\n",
    "\n",
    "\n",
    "with open(\"fakulteti_links.txt\", \"r\", encoding=\"utf-8\") as f:\n",
    "    fakulteti = [line.strip() for line in f.readlines()]\n",
    "\n",
    "\n",
    "headers = {\n",
    "    \"User-Agent\": \"Mozilla/5.0 (Windows NT 10.0; Win64; x64)\"\n",
    "}\n",
    "\n",
    "for fakultet in fakulteti:\n",
    "    url = f\"https://{fakultet}.udg.edu.me/predavaci/\"\n",
    "    response = requests.get(url)\n",
    "    response.raise_for_status()  \n",
    "\n",
    "    with open(f\"{fakultet}.html\", \"w\", encoding=\"utf-8\") as f:\n",
    "        f.write(response.text)\n",
    "    print(f\"Gotov {fakultet}.html\")\n",
    "\n",
    "\n",
    "\n",
    "\n",
    "\n"
   ]
  },
  {
   "cell_type": "code",
   "execution_count": null,
   "metadata": {},
   "outputs": [
    {
     "name": "stdout",
     "output_type": "stream",
     "text": [
      "['Prof. dr', 'Prof. dr', 'Prof. dr', 'Prof.', 'Prof. dr', 'Prof. dr', 'Prof. dr', 'Prof. dr', 'Prof. dr', 'Prof. dr', 'Prof. dr', 'Prof. mr', 'Prof. mr', 'Prof. mr', 'Prof. mr', 'Prof.', 'Doc. dr', 'Doc. dr', 'Doc. dr', 'Doc. dr', 'Doc.', 'dr', 'dr', 'dr', 'mr', 'mr', 'mr', 'mr', 'mr', 'mr', 'mr', 'mr', 'mr', '', '', '', '', '', '', '', '', '', '', '', '', '', '', '', '']\n",
      "['Prof. dr', 'Prof. dr', 'Prof. dr', 'Prof. dr', 'Prof. dr', 'Prof. dr', 'Prof. dr', 'Prof. dr', 'Prof. dr', 'Prof. dr', 'Prof. dr', 'Prof. dr', 'Prof. dr', 'Prof. dr', 'Prof. dr', 'Prof. dr', 'Prof. dr', 'Prof. dr', 'Prof. dr', 'Prof. dr', 'Prof. dr', 'Doc. dr', 'Doc. dr', 'Doc. dr', 'Doc. dr', 'Doc. dr', 'Doc. dr', 'Doc. dr', 'Doc. mr', 'dr', 'dr', 'dr', 'dr', 'dr', 'dr', 'mr', 'mr', 'mr', 'mr', 'mr', 'mr', 'mr', 'mr', 'mr', 'mr', 'mr', 'mr', 'mr', 'mr', 'mr', 'mr', '', '', '', '', '', '', '', '', '', '', '', '', '', '', '', '', '', '', '', '', '']\n",
      "['Prof. dr', 'Prof. dr', 'Prof. dr', 'Prof. dr', 'Prof. dr', 'Prof. dr', 'Prof. dr', 'Prof. dr', 'Prof. dr', 'Prof. dr', 'Prof. dr', 'Prof. dr', 'Prof. dr', 'Prof. dr', 'Prof. dr', 'Prof. dr', 'Prof. dr', 'Prof. dr', 'Prof. dr', 'Prof. dr', 'Prof. dr', 'Prof. dr', 'Prof. dr', 'Prof. dr', 'Prof. dr', 'Prof. dr', 'Prof. dr', 'Prof. dr', 'Prof. dr', 'Prof. dr', 'Prof. dr', 'Prof. dr', 'Prof. mr', 'Prof. mr', 'Doc. dr', 'Doc. dr', 'Doc. dr', 'Doc. dr', 'Doc. dr', 'Doc. dr', 'Doc. dr', 'Doc. dr', 'Doc. dr', 'Doc. dr', 'Doc. dr', 'Doc. dr', 'Doc. dr', 'Doc. dr', 'Doc. dr', 'Doc. dr', 'Doc. dr', 'Doc. dr', 'Doc. dr', 'Doc. dr', 'dr', 'dr', 'dr', 'dr', 'dr', 'dr', 'dr', 'dr', 'dr', 'dr', 'dr', 'mr', 'mr', 'mr', 'mr', 'mr', 'mr', 'mr', 'mr', 'mr', 'mr', 'mr', 'mr', 'mr', 'mr', 'mr', 'mr', 'mr', 'mr', 'mr', 'mr', 'mr', 'mr', 'mr', 'mr', 'mr', 'mr', 'mr', 'mr', 'mr', 'mr', 'mr', 'mr', 'mr', 'mr', 'mr', 'mr', 'mr', 'mr', 'mr', 'mr', 'mr', 'mr', '', '', '', '', '', '', '', '', '', '', '', '', '', '', '', '', '', '', '', '']\n",
      "['Prof. dr', 'Prof. dr', 'Prof. dr', 'Prof. dr', 'Prof. dr', 'Prof. dr', 'Prof. dr', 'Prof. dr', 'Prof. dr', 'Prof. dr', 'Prof. dr', 'Prof. dr', 'Prof. dr', 'Prof. dr', 'Prof. dr', 'Prof. dr', 'Prof. dr', 'Prof. dr', 'Prof. dr', 'Prof. dr', 'Prof. dr', 'Prof. dr', 'Prof. dr', 'Prof. dr', 'Prof. dr', 'Prof. dr', 'Prof. dr', 'Prof. dr', 'Prof. dr', 'Prof. dr', 'Prof. dr', 'Prof. dr', 'Prof. dr', 'Prof. dr', 'Doc. dr', 'Doc. dr', 'Doc. dr', 'Doc. dr', 'Doc. dr', 'Doc. dr', 'Doc. dr', 'Doc. dr', 'Doc. dr', 'Doc. dr', 'Doc. mr', 'dr', 'dr', 'dr', 'dr', 'dr', 'dr', 'dr', 'mr', 'mr', 'mr', 'mr', 'mr', 'mr', 'mr', 'mr', 'mr', 'mr', 'mr', 'mr', 'mr', 'mr', '', '', '', '', '', '', '', '', '', '', '', '', '', '', '', '', '']\n",
      "['Prof. dr', 'Prof. dr', 'Prof. dr', 'Prof. dr', 'Prof. dr', 'Prof. dr', 'Prof. dr', 'Prof. dr', 'Prof. dr', 'Prof. dr', 'Prof. dr', 'Prof. dr', 'Prof. dr', 'Prof. dr', 'Prof. dr', 'Prof. dr', 'Prof. dr', 'Prof. dr', 'Prof. dr', 'Prof. dr', 'Doc. dr', 'Doc. dr', 'Doc. dr', 'Doc. dr', 'Doc. dr', 'Doc. dr', 'Doc. dr', 'mr', 'mr', 'mr', 'mr', 'mr', '', '', '', '', '']\n",
      "['Prof. dr', 'Prof. dr', 'Prof. dr', 'Prof. dr', 'Prof. dr', 'Prof. dr', 'Prof. dr', 'Prof. dr', 'Prof. dr', 'Prof. dr', 'Prof. dr', 'Prof. dr', 'Prof. dr', 'Prof. dr', 'Prof. dr', 'Prof. dr', 'Prof. dr', 'Prof. dr', 'Prof. dr', 'Prof. dr', 'Prof. dr', 'Prof. dr', 'Prof. dr', 'Prof. dr', 'Prof. dr', 'Prof. dr', 'Prof. dr', 'Prof. dr', 'Prof. dr', 'Prof. dr', 'Prof. dr', 'Prof. dr', 'Prof. dr', 'Prof. dr', 'Prof. dr', 'Prof. dr', 'Doc. dr', 'Doc. dr', 'Doc. dr', 'Doc. dr', 'Doc. dr', 'Doc. dr', 'Doc. dr', 'Doc. dr', 'Doc. dr', 'Doc. dr', 'Doc. dr', 'Doc. dr', 'dr', 'dr', 'dr', 'dr', 'dr', 'dr', 'dr', 'dr', 'dr', 'mr', 'mr', 'mr', 'mr', 'mr', 'mr', 'mr', 'mr', 'mr', 'mr', 'mr', 'mr', 'mr', 'mr', 'mr', 'mr', 'mr', 'mr', 'mr', 'mr', 'mr', 'mr', 'mr', 'mr', 'mr', 'mr', 'mr', '', '', '', '', '', '', '', '', '', '', '']\n",
      "['Prof. dr', 'Prof. dr', 'Prof. dr', 'Prof. dr', 'Prof. dr', 'Prof. dr', 'Prof. dr', 'Prof. dr', 'Prof. dr', 'Prof. dr', 'Prof. dr', 'Prof. dr', 'Prof. dr', 'Prof. dr', 'Prof. dr', 'Prof. dr', 'Prof. dr', 'Prof. dr', 'Prof. dr', 'Prof. dr', 'Prof. dr', 'Prof. dr', 'Prof. dr', 'Doc. dr', 'Doc. dr', 'Doc. dr', 'Doc. dr', 'Doc. dr', 'Doc. dr', 'Doc. dr', 'Doc. dr', 'Doc. dr', 'Doc. dr', 'dr', 'dr', 'dr', 'dr', 'dr', 'dr', 'mr', 'mr', 'mr', 'mr', 'mr', 'mr', 'mr', 'mr', 'mr', 'mr', 'mr', 'mr', 'mr', 'mr', 'mr', '', '', '', '', '', '', '']\n",
      "['Prof. dr', 'Prof. dr', 'Prof. dr', 'Prof. dr', 'Prof. dr', 'Prof. dr', 'Prof. dr', 'Prof. dr', 'Prof. dr', 'Prof. dr', 'Prof. dr', 'Prof. dr', 'Prof. dr', 'Prof. dr', 'Doc. dr', 'Doc. dr', 'Doc. dr', 'dr', 'dr', 'dr', 'dr', 'dr', 'dr', 'dr', 'dr', 'mr', 'mr', 'mr', 'mr', 'mr', 'mr', 'mr', '', '', '', '', '', '', '']\n",
      "['Prof. dr', 'Prof. dr', 'Prof. dr', 'Prof. dr', 'Prof. dr', 'Prof. dr', 'Prof. dr', 'Prof. dr', 'Prof. dr', 'Prof. dr', 'Prof. dr', 'Prof. dr', 'Prof. dr', 'Prof. dr', 'Prof. dr', 'Prof. dr', 'Prof. dr', 'Prof. dr', 'Prof. dr', 'Prof. dr', 'Prof. dr', 'Prof. dr', 'Prof. dr', 'Prof. dr', 'Prof. dr', 'Prof. dr', 'Prof. dr', 'Prof. dr', 'Prof. dr', 'Prof. dr', 'Prof. dr', 'Prof. dr', 'Prof. dr', 'Prof. dr', 'Prof. dr', 'Prof. dr', 'Prof. dr', 'Prof. dr', 'Prof. dr', 'Prof. dr', 'Prof. dr', 'Doc. dr', 'Doc. dr', 'Doc. dr', 'Doc. dr', 'Doc. dr', 'Doc. dr', 'Doc. dr', 'Doc. dr', 'Doc. dr', 'Doc. dr', 'dr', 'dr', 'dr', 'dr', 'dr', 'dr', 'dr', 'dr', 'dr', 'mr', 'mr', 'mr', 'mr', 'mr', 'mr', 'mr', 'mr', 'mr', 'mr', 'mr', 'mr', 'mr', 'mr', '', '', '', '', '']\n",
      "['Prof. dr', 'Prof. dr', 'Prof. dr', 'Prof. dr', 'Prof. dr', 'Prof. dr', 'Prof. dr', 'Prof. mr', 'Prof. dr', 'Prof. dr', 'Prof. dr', 'Prof. dr', 'Prof. dr', 'Doc. dr', 'Doc. dr', 'Doc. dr', 'Doc. dr', 'Doc. dr', 'Doc. dr', 'Doc. dr', 'dr', 'dr', 'dr', 'dr', 'dr', 'mr', 'mr', 'mr', 'mr', 'mr', 'mr', 'mr', 'mr', 'mr', 'mr', 'mr', 'mr', 'mr', 'mr', 'mr', 'mr', 'mr', 'mr', 'mr', '', '', '', '', '', '', '', '', '', '', '', '']\n"
     ]
    }
   ],
   "source": [
    "from bs4 import BeautifulSoup\n",
    "from collections import Counter\n",
    "import csv\n",
    "\n",
    "with open(\"titule_po_fakultetu.csv\", \"a\", newline='', encoding='utf-8') as csvfile:\n",
    "    writer = csv.writer(csvfile)\n",
    "    writer.writerow([\"Fakultet\", \"Titula\", \"Broj\"])\n",
    "\n",
    "    for fakultet in fakulteti:\n",
    "        with open(f\"{fakultet}.html\", \"r\", encoding=\"utf-8\") as f:\n",
    "            html = f.read()\n",
    "\n",
    "        soup = BeautifulSoup(html, \"html.parser\")\n",
    "\n",
    "        ime_linkovi = soup.find_all(\"a\", class_=\"teacher-name\")\n",
    "\n",
    "        titule = []\n",
    "        for link in ime_linkovi:\n",
    "            tekst = link.text.strip()\n",
    "\n",
    "            parts = tekst.split()\n",
    "            titula = []\n",
    "            for part in parts:\n",
    "                if not part.lower() in [\"dr\", \"mr\", \"prof.\", \"doc.\"]:\n",
    "                    break\n",
    "                titula.append(part)\n",
    "            titule.append(\" \".join(titula))\n",
    "        print(titule)\n",
    "        count = Counter(titule)\n",
    "\n",
    "        for titula, broj in count.items():\n",
    "            writer.writerow([fakultet, \"bez titule\" if titula==\"\" else titula, broj])"
   ]
  }
 ],
 "metadata": {
  "kernelspec": {
   "display_name": ".venv",
   "language": "python",
   "name": "python3"
  },
  "language_info": {
   "codemirror_mode": {
    "name": "ipython",
    "version": 3
   },
   "file_extension": ".py",
   "mimetype": "text/x-python",
   "name": "python",
   "nbconvert_exporter": "python",
   "pygments_lexer": "ipython3",
   "version": "3.13.2"
  }
 },
 "nbformat": 4,
 "nbformat_minor": 2
}
